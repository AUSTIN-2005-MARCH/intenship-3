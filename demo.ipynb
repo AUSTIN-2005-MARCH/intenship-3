{
 "cells": [
  {
   "cell_type": "code",
   "execution_count": 1,
   "id": "c80cc2ef-3458-4aa0-813a-5be3612caeae",
   "metadata": {},
   "outputs": [
    {
     "name": "stdout",
     "output_type": "stream",
     "text": [
      "austin\n"
     ]
    }
   ],
   "source": [
    "print(\"austin\")"
   ]
  },
  {
   "cell_type": "code",
   "execution_count": null,
   "id": "52d2d070-a951-4847-830a-754418991322",
   "metadata": {},
   "outputs": [],
   "source": []
  }
 ],
 "metadata": {
  "kernelspec": {
   "display_name": "Python [conda env:base] *",
   "language": "python",
   "name": "conda-base-py"
  },
  "language_info": {
   "codemirror_mode": {
    "name": "ipython",
    "version": 3
   },
   "file_extension": ".py",
   "mimetype": "text/x-python",
   "name": "python",
   "nbconvert_exporter": "python",
   "pygments_lexer": "ipython3",
   "version": "3.12.7"
  }
 },
 "nbformat": 4,
 "nbformat_minor": 5
}
